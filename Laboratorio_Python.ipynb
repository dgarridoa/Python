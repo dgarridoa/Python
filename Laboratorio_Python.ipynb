{
 "cells": [
  {
   "cell_type": "markdown",
   "metadata": {},
   "source": [
    "## Integrantes\n",
    "\n",
    "1. \n",
    "2. \n",
    "3. \n",
    "4. "
   ]
  },
  {
   "cell_type": "markdown",
   "metadata": {},
   "source": [
    "# Instrucciones\n",
    "\n",
    "El laboratorio tiene 6 ptos, donde obtener 6 ptos equivale a un 7.0 y 0 ptos un 1.0. \n",
    "\n",
    "El formato de entrega será subir a u-cursos **un Jupyter notebook\n",
    "laboratorio1.ipynb por grupo**, que se debe ejecutar **sin errores** desde la primera celda a la última. Todo el código debe estar en el mismo notebook, el código debe estar **comentado** y **testeado**.\n",
    "\n",
    "\n",
    "\n",
    "Ejemplo de como documetar código (no necesita estar en inglés, pero se considera una buena práctica):\n",
    "\n",
    "```python\n",
    "def get_quantile(array, q=0.95):\n",
    "    \"\"\"\n",
    "    Compute the q-the quantile of the cumulative distribution.\n",
    "    Parameters\n",
    "    ----------\n",
    "    array: array-like, \n",
    "        input array.\n",
    "    q: float, defaut=0.95\n",
    "        quantile, which must be between 0 and 1 inclusive.\n",
    "    \n",
    "    Returns\n",
    "    -------\n",
    "    quantile: scalar\n",
    "        q quantile of the cumulative distribution.\n",
    "    \"\"\"\n",
    "    # first comment\n",
    "    \n",
    "    # ...\n",
    "    \n",
    "    # last comment\n",
    "    \n",
    "    return quantile    \n",
    "```"
   ]
  },
  {
   "cell_type": "markdown",
   "metadata": {},
   "source": [
    "## A. Implementar la clase MyMatrix  (3 ptos)\n",
    "\n",
    "En esta sección usted deberá:\n",
    "1. **Programar** clase MyMatrix que sirva para almacenar matrices y permitir las operaciones descritas abajo. Debe **utilizar sólo la estructura de datos de Python por defecto** (no usar liberías ni <a href=https://www.python-course.eu/python3_inheritance.php>herencia</a> ).\n",
    "2. **Testear** los métodos descritos abajo, se **descontará** 0.1 pto por cada método no testeado a pesar de que esté correctamente programado."
   ]
  },
  {
   "cell_type": "markdown",
   "metadata": {},
   "source": [
    "```python\n",
    "class MyMatrix:\n",
    "\n",
    "    def __init__(self, matrix): \n",
    "        \"\"\"\n",
    "        Método para instanciar un objeto clase matriz. Debe entregar una excepción si el \n",
    "        número de columnas de cada fila no es el mismo.\n",
    "\n",
    "        Guardar en un atributo\n",
    "        - self.matrix = matrix\n",
    "        Acceder a información de un atributo\n",
    "        - self.matrix\n",
    "        \"\"\"\n",
    "\n",
    "        self.matrix = matrix\n",
    " \n",
    "    def __str__(self): \n",
    "        \"\"\"\n",
    "        Método print. Retorna un string del contenido almacenado en el atributo matrix.\n",
    "        \"\"\"\n",
    "       \n",
    "        return \n",
    "    def getitem(self, row, col): \n",
    "        \"\"\"\n",
    "        Método para indexar. Retorna un elemeno de la matriz en una posición específica.\n",
    "        \"\"\"\n",
    "        \n",
    "        return \n",
    "        \n",
    "    def __len__(self): \n",
    "         \"\"\"\n",
    "         Retorna el largo de una matriz = número de filas. \n",
    "         \"\"\"\n",
    "       \n",
    "        return  \n",
    " \n",
    "        \n",
    "    def shape(self): \n",
    "         \"\"\"\n",
    "         Método para calcular la dimensión de una matriz. Retorna una tupla de la forma \n",
    "         (n_filas, n_columnas).\n",
    "         \"\"\"\n",
    "    \n",
    "        return \n",
    "    def __add__(self, other): \n",
    "         \"\"\"\n",
    "         Método para sumar matrices del mismo tamaño. Retorna un objeto MyMatrix.\n",
    "         Debe entregar una excepción si se intenta sumar matrices de diferente tamaño. \n",
    "         \n",
    "         self y other son objetos MyMatrix, para acceder a sus atributos:\n",
    "         - self.matrix\n",
    "         - other.matrix\n",
    "         \"\"\"\n",
    "        \n",
    "        return MyMatrix(...) \n",
    "    \n",
    "    def __sub__(self, other): \n",
    "         \"\"\"\n",
    "         Método para restar matrices. Retorna un objeto MyMatrix.\n",
    "         Debe entregar una excepción si se intenta restar matrices de diferente tamaño.\n",
    "         \"\"\"\n",
    "        \n",
    "        return MyMatrix(...) \n",
    "    def __mul__(self, other): \n",
    "         \"\"\"\n",
    "         Método de multiplicación de matrices. Retorna un objeto MyMatrix.\n",
    "         Debe entregar una excepción si se intenta multiplicar matrices de tamaño \n",
    "         no adecuado para multiplicación matricial. \n",
    "         \"\"\"\n",
    "       \n",
    "        return MyMatrix(...) \n",
    "    def transpose(self): \n",
    "         \"\"\"\n",
    "         Método para transponer una matriz. Retorna un objeto MyMatrix.\n",
    "         \"\"\"\n",
    "        \n",
    "        return MyMatrix(...) \n",
    "        \n",
    "```     \n",
    "**Hint**: asuma que la entrada del método init son listas de números de la forma [[1, 2, 3]] para representar un vector y [[1,2,3], [2,2,2]] para representar una matriz de dos filas y 3 columnas.\n",
    "\n",
    "\n",
    "\n",
    "\n",
    "\n",
    "## Ejemplo de uso\n",
    "\n",
    "\n",
    "```python\n",
    "# crear un objeto\n",
    "x = MyMatrix(...)\n",
    "y = MyMatrix(...)\n",
    "# __str__\n",
    "print(x)\n",
    "# getitem\n",
    "x.getitem(0,1)\n",
    "# __len__\n",
    "len(x)\n",
    "# shape\n",
    "x.shape()\n",
    "# __add__\n",
    "x+y\n",
    "# __sub__\n",
    "x-y\n",
    "# __mult__\n",
    "x*y\n",
    "#transpose\n",
    "x.transpose()\n",
    "```"
   ]
  },
  {
   "cell_type": "code",
   "execution_count": null,
   "metadata": {},
   "outputs": [],
   "source": []
  },
  {
   "cell_type": "markdown",
   "metadata": {},
   "source": [
    "# B. Implemente función de correlación (1 pto)\n",
    "\n",
    "Cree una función para calcular la correlación entre dos vectores almacenados en listas y comparelo con la función `np.corrcoef`. Debe **utilizar sólo la estructura de datos de Python por defecto**. Se **descontara** 0.5 ptos si no testea su función.\n",
    "\n",
    "\n",
    "La correlación muestral viene dada por la siguiente formula:\n",
    "\n",
    "$$ corr(X, Y) = \\frac{\\sum_{i=1}^{N} (X_{i}-\\bar{X})(Y_{i}-\\bar{Y})}{\\sqrt{\\sum_{i=1}^{N}(X_{i}-\\bar{X})^{2}}\\sqrt{\\sum_{i=1}^{N}(Y_{i}-\\bar{Y})^{2}}}$$\n",
    "\n",
    "\n",
    "```python\n",
    "def corr(x, y):\n",
    "\n",
    "    return ...\n",
    "```"
   ]
  },
  {
   "cell_type": "code",
   "execution_count": 2,
   "metadata": {},
   "outputs": [],
   "source": [
    "import numpy as np"
   ]
  },
  {
   "cell_type": "code",
   "execution_count": 3,
   "metadata": {},
   "outputs": [
    {
     "data": {
      "text/plain": [
       "<function numpy.corrcoef(x, y=None, rowvar=True, bias=<no value>, ddof=<no value>)>"
      ]
     },
     "execution_count": 3,
     "metadata": {},
     "output_type": "execute_result"
    }
   ],
   "source": [
    "np.corrcoef?"
   ]
  },
  {
   "cell_type": "markdown",
   "metadata": {},
   "source": [
    "# C. Implemente función que generé una matriz aleatoria simétrica (1 pto)\n",
    "\n",
    "Implemente una función que generé una matriz aleatoria simétrica. En esta ocasión puede ocupar librerías como numpy, pero no puede utilizar una función que haga lo pedido en un solo paso. Se **descontara** 0.5 ptos si no testea su función.\n",
    "\n",
    "\n",
    "```python\n",
    "def symmetric_matrix(n):\n",
    "    #n = dimensión de la matriz cuadrada\n",
    "    return ...\n",
    "```\n",
    "\n",
    "\n",
    "**Hint**: Para generar números aleatorios le puede ser util usar la librería `random` o el modulo `random` de `numpy`."
   ]
  },
  {
   "cell_type": "code",
   "execution_count": null,
   "metadata": {},
   "outputs": [],
   "source": [
    "symmetric_matrix(4) "
   ]
  },
  {
   "cell_type": "markdown",
   "metadata": {},
   "source": [
    "# D. Matplotlib (1pto) \n",
    "\n",
    "En esta pregunta no hay restricciones de librerías ni funciones, puede utilizar lo que estime conveniente para graficar lo pedido.\n",
    "\n",
    "## D.1 (0.4 ptos) En una misma visualización dibujar (x, f) y (x, g), donde:\n",
    "1. $X$ es un vector de 1000 muestras equiespaciadas en el intervalo [-2, 2]\n",
    "2. $f(x) = \\sqrt{1- (|x|-1)^{2}}, \\forall x \\in X $  \n",
    "3. $g(x) = -3\\sqrt{1- \\sqrt{\\frac{|x|}{2}}}, \\forall x \\in X $  \n",
    "\n",
    "**Hint**: puede ser de utilidad `np.linspace`, `np.arange`.\n",
    "  \n",
    "## D.2 (0.4 ptos) En una misma visualización dibujar (x1, y1) y (x2, y2), donde:\n",
    "1. $X1$ es un vector de 100 muestras equi-espaciadas en el intervalo [0, 5]\n",
    "2. $X2$ es un vector de 100 muestras equi-espaciadas en el intervalo [0, 2] \n",
    "3. $y1 =  cos(2\\pi x1)\\exp(-x1),  \\forall x1 \\in X1$\n",
    "4. $y2 =  cos(2\\pi x2), \\forall x2 \\in X2$\n",
    "   \n",
    "**Hint**: puede ser de utilidad `np.pi`, `np.cos`, `np.exp`.\n",
    "## D.3 (0.2 ptos) Estilo\n",
    "\n",
    "Diseñe un estilo por defecto para los gráficos que al menos cambie colores, tamaño imagen\n",
    "y tamaño de textos. **Hint**: puede ser de utilidad investigar `plt.rcParams`."
   ]
  },
  {
   "cell_type": "code",
   "execution_count": 5,
   "metadata": {},
   "outputs": [],
   "source": [
    "import matplotlib.pyplot as plt"
   ]
  },
  {
   "cell_type": "code",
   "execution_count": null,
   "metadata": {},
   "outputs": [],
   "source": [
    "plt.plot(...)"
   ]
  }
 ],
 "metadata": {
  "kernelspec": {
   "display_name": "Python 3",
   "language": "python",
   "name": "python3"
  },
  "language_info": {
   "codemirror_mode": {
    "name": "ipython",
    "version": 3
   },
   "file_extension": ".py",
   "mimetype": "text/x-python",
   "name": "python",
   "nbconvert_exporter": "python",
   "pygments_lexer": "ipython3",
   "version": "3.7.4"
  },
  "latex_envs": {
   "LaTeX_envs_menu_present": true,
   "autoclose": false,
   "autocomplete": true,
   "bibliofile": "biblio.bib",
   "cite_by": "apalike",
   "current_citInitial": 1,
   "eqLabelWithNumbers": true,
   "eqNumInitial": 1,
   "hotkeys": {
    "equation": "Ctrl-E",
    "itemize": "Ctrl-I"
   },
   "labels_anchors": false,
   "latex_user_defs": false,
   "report_style_numbering": false,
   "user_envs_cfg": false
  }
 },
 "nbformat": 4,
 "nbformat_minor": 2
}
