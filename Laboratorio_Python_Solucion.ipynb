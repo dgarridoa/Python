{
 "cells": [
  {
   "cell_type": "markdown",
   "metadata": {},
   "source": [
    "## Integrantes\n",
    "\n",
    "1. \n",
    "2. \n",
    "3. \n",
    "4. "
   ]
  },
  {
   "cell_type": "markdown",
   "metadata": {},
   "source": [
    "# Instrucciones\n",
    "\n",
    "El laboratorio tiene 6 ptos, donde obtener 6 ptos equivale a un 7.0 y 0 ptos un 1.0. \n",
    "\n",
    "El formato de entrega será subir a u-cursos **un Jupyter notebook\n",
    "laboratorio1.ipynb por grupo**, que se debe ejecutar **sin errores** desde la primera celda a la última. Todo el código debe estar en el mismo notebook, el código debe estar **comentado** y **testeado**.\n",
    "\n",
    "\n",
    "\n",
    "Ejemplo de como documetar código (no necesita estar en inglés, pero se considera una buena práctica):\n",
    "\n",
    "```python\n",
    "def get_quantile(array, q=0.95):\n",
    "    \"\"\"\n",
    "    Compute the q-the quantile of the cumulative distribution.\n",
    "    Parameters\n",
    "    ----------\n",
    "    array: array-like, \n",
    "        input array.\n",
    "    q: float, defaut=0.95\n",
    "        quantile, which must be between 0 and 1 inclusive.\n",
    "    \n",
    "    Returns\n",
    "    -------\n",
    "    quantile: scalar\n",
    "        q quantile of the cumulative distribution.\n",
    "    \"\"\"\n",
    "    # first comment\n",
    "    \n",
    "    # ...\n",
    "    \n",
    "    # last comment\n",
    "    \n",
    "    return quantile    \n",
    "```"
   ]
  },
  {
   "cell_type": "markdown",
   "metadata": {},
   "source": [
    "## A. Implementar la clase MyMatrix  (3 ptos)\n",
    "\n",
    "En esta sección usted deberá:\n",
    "1. **Programar** clase MyMatrix que sirva para almacenar matrices y permitir las operaciones descritas abajo. Debe **utilizar sólo la estructura de datos de Python por defecto** (no usar liberías ni <a href=https://www.python-course.eu/python3_inheritance.php>herencia</a> ).\n",
    "2. **Testear** los métodos descritos abajo, se **descontará** 0.1 pto por cada método no testeado a pesar de que esté correctamente programado."
   ]
  },
  {
   "cell_type": "markdown",
   "metadata": {},
   "source": [
    "```python\n",
    "class MyMatrix:\n",
    "\n",
    "    def __init__(self, matrix): \n",
    "        \"\"\"\n",
    "        Método para instanciar un objeto clase matriz. Debe entregar una excepción si el \n",
    "        número de columnas de cada fila no es el mismo.\n",
    "\n",
    "        Guardar en un atributo\n",
    "        - self.matrix = matrix\n",
    "        Acceder a información de un atributo\n",
    "        - self.matrix\n",
    "        \"\"\"\n",
    "\n",
    "        self.matrix = matrix\n",
    " \n",
    "    def __str__(self): \n",
    "        \"\"\"\n",
    "        Método print. Retorna un string del contenido almacenado en el atributo matrix.\n",
    "        \"\"\"\n",
    "       \n",
    "        return \n",
    "    def getitem(self, row, col): \n",
    "        \"\"\"\n",
    "        Método para indexar. Retorna un elemeno de la matriz en una posición específica.\n",
    "        \"\"\"\n",
    "        \n",
    "        return \n",
    "        \n",
    "    def __len__(self): \n",
    "         \"\"\"\n",
    "         Retorna el largo de una matriz = número de filas. \n",
    "         \"\"\"\n",
    "       \n",
    "        return  \n",
    " \n",
    "        \n",
    "    def shape(self): \n",
    "         \"\"\"\n",
    "         Método para calcular la dimensión de una matriz. Retorna una tupla de la forma \n",
    "         (n_filas, n_columnas).\n",
    "         \"\"\"\n",
    "    \n",
    "        return \n",
    "    def __add__(self, other): \n",
    "         \"\"\"\n",
    "         Método para sumar matrices del mismo tamaño. Retorna un objeto MyMatrix.\n",
    "         Debe entregar una excepción si se intenta sumar matrices de diferente tamaño. \n",
    "         \n",
    "         self y other son objetos MyMatrix, para acceder a sus atributos:\n",
    "         - self.matrix\n",
    "         - other.matrix\n",
    "         \"\"\"\n",
    "        \n",
    "        return MyMatrix(...) \n",
    "    \n",
    "    def __sub__(self, other): \n",
    "         \"\"\"\n",
    "         Método para restar matrices. Retorna un objeto MyMatrix.\n",
    "         Debe entregar una excepción si se intenta restar matrices de diferente tamaño.\n",
    "         \"\"\"\n",
    "        \n",
    "        return MyMatrix(...) \n",
    "    def __mul__(self, other): \n",
    "         \"\"\"\n",
    "         Método de multiplicación de matrices. Retorna un objeto MyMatrix.\n",
    "         Debe entregar una excepción si se intenta multiplicar matrices de tamaño \n",
    "         no adecuado para multiplicación matricial. \n",
    "         \"\"\"\n",
    "       \n",
    "        return MyMatrix(...) \n",
    "    def transpose(self): \n",
    "         \"\"\"\n",
    "         Método para transponer una matriz. Retorna un objeto MyMatrix.\n",
    "         \"\"\"\n",
    "        \n",
    "        return MyMatrix(...) \n",
    "        \n",
    "```     \n",
    "**Hint**: asuma que la entrada del método init son listas de números de la forma [[1, 2, 3]] para representar un vector y [[1,2,3], [2,2,2]] para representar una matriz de dos filas y 3 columnas.\n",
    "\n",
    "\n",
    "\n",
    "\n",
    "\n",
    "## Ejemplo de uso\n",
    "\n",
    "\n",
    "```python\n",
    "# crear un objeto\n",
    "x = MyMatrix(...)\n",
    "y = MyMatrix(...)\n",
    "# __str__\n",
    "print(x)\n",
    "# getitem\n",
    "x.getitem(0,1)\n",
    "# __len__\n",
    "len(x)\n",
    "# shape\n",
    "x.shape()\n",
    "# __add__\n",
    "x+y\n",
    "# __sub__\n",
    "x-y\n",
    "# __mult__\n",
    "x*y\n",
    "#transpose\n",
    "x.transpose()\n",
    "```"
   ]
  },
  {
   "cell_type": "code",
   "execution_count": 1,
   "metadata": {},
   "outputs": [],
   "source": [
    "class MyMatrix:\n",
    "\n",
    "    def __init__(self, matrix): \n",
    "        #Método para instanciar un objeto clase matriz. Debe entregar una excepción si el número de columnas de cada fila no es el mismo.\n",
    "        \n",
    "        M = len(matrix)\n",
    "        N = len(matrix[0])\n",
    "        for i in range(1,M):\n",
    "            if N!=len(matrix[1]):\n",
    "                raise TypeError(\"Cada fila debe tener el mismo número de columnas\")\n",
    "            \n",
    "        self.matrix = matrix\n",
    "        \n",
    "    def __str__(self): \n",
    "        #Método print. Imprime en pantalla la matriz.\n",
    "        return \"[\"+\"\\n \".join([str(row)  for row in self.matrix])+\"]\"\n",
    "    \n",
    "    def getitem(self, row, col): \n",
    "        #Método para indexar. Retorna un elemeno de la matriz en una posición específica.\n",
    "        return self.matrix[row][col]\n",
    "    \n",
    "    def __len__(self): \n",
    "        #Método para calcular el largo de una matriz = número de filas.\n",
    "        return len(self.matrix)\n",
    "    \n",
    "    def shape(self): \n",
    "        #Método para calcular la dimensión de una matriz. Retorna una tupla de la forma (n_filas, n_columnas).\n",
    "        return (len(self.matrix), len(self.matrix[0]))\n",
    "    \n",
    "    def __add__(self, other): \n",
    "        #Método para sumar matrices del mismo tamaño. Debe entregar una excepción si se intenta sumar matrices de diferente tamaño.\n",
    "        M1, N1 = self.shape()\n",
    "        M2, N2 = other.shape()\n",
    "        if (M1, N1)!=(M2, N2):\n",
    "            raise ValueError(\"Ambas matrices deben tener igual dimensión\")\n",
    "        return MyMatrix([[self.getitem(i,j)+other.getitem(i,j) for j in range(N1)] for i in range(M1)])\n",
    "        \n",
    "    def __sub__(self, other): \n",
    "        #Método para restar matrices. Debe entregar una excepción si se intenta restar matrices de diferente tamaño.\n",
    "        M1, N1 = self.shape()\n",
    "        M2, N2 = other.shape()\n",
    "        if (M1, N1)!=(M2, N2):\n",
    "            raise ValueError(\"Ambas matrices deben tener igual dimensión\")\n",
    "        return MyMatrix([[self.getitem(i,j)-other.getitem(i,j) for j in range(N1)] for i in range(M1)])\n",
    "    \n",
    "    def __mul__(self, other): \n",
    "        #Método de multiplicación de matrices. Debe entregar una excepción si se intenta multiplicar matrices de tamaño no adecuado para multiplicación matricial.\n",
    "        M1, N1 = self.shape()\n",
    "        M2, N2 = other.shape()\n",
    "        if N1!=M2:\n",
    "            raise ValueError(\"Dimensiones no adecuadas para multiplicación de matrices\")\n",
    "            \n",
    "        return MyMatrix([[sum([self.getitem(i,k)*other.getitem(k,j) for k in range(N1)]) \n",
    "                  for i in range(M1)] \n",
    "                  for j in range(N2)])\n",
    "    \n",
    "    def transpose(self): \n",
    "        #Método para transponer una matriz.\n",
    "        M, N = self.shape()\n",
    "        return MyMatrix([[self.getitem(j,i) for j in range(M)] for i in range(N)])"
   ]
  },
  {
   "cell_type": "markdown",
   "metadata": {},
   "source": [
    "## Uso"
   ]
  },
  {
   "cell_type": "code",
   "execution_count": 2,
   "metadata": {},
   "outputs": [
    {
     "name": "stdout",
     "output_type": "stream",
     "text": [
      "[[2, 2, 2]\n",
      " [3, 3, 3]] \n",
      "\n",
      "2 \n",
      "\n",
      "(2, 3) \n",
      "\n",
      "2 \n",
      "\n",
      "[[4, 4, 4]\n",
      " [6, 6, 6]] \n",
      "\n",
      "[[0, 0, 0]\n",
      " [0, 0, 0]] \n",
      "\n",
      "[[2, 3]\n",
      " [2, 3]\n",
      " [2, 3]] \n",
      "\n",
      "[[12, 18]\n",
      " [18, 27]] \n",
      "\n"
     ]
    }
   ],
   "source": [
    "#Método init\n",
    "A = MyMatrix([[2,2,2], [3,3,3]])\n",
    "B = MyMatrix([[1,2,3]])\n",
    "#__str__\n",
    "print(A, \"\\n\")\n",
    "#__len__\n",
    "print(len(A), \"\\n\")\n",
    "#shape()\n",
    "print(A.shape(), \"\\n\")\n",
    "#indexamiento\n",
    "print(A.getitem(0,1), \"\\n\")\n",
    "#suma\n",
    "print(A+A, \"\\n\")\n",
    "#resta\n",
    "print(A-A, \"\\n\")\n",
    "#transpuesta\n",
    "print(A.transpose(), \"\\n\")\n",
    "#producto\n",
    "print(A*A.transpose(), \"\\n\")"
   ]
  },
  {
   "cell_type": "markdown",
   "metadata": {},
   "source": [
    "## Excepciones"
   ]
  },
  {
   "cell_type": "code",
   "execution_count": 3,
   "metadata": {},
   "outputs": [
    {
     "ename": "TypeError",
     "evalue": "Cada fila debe tener el mismo número de columnas",
     "output_type": "error",
     "traceback": [
      "\u001b[0;31m---------------------------------------------------------------------------\u001b[0m",
      "\u001b[0;31mTypeError\u001b[0m                                 Traceback (most recent call last)",
      "\u001b[0;32m<ipython-input-3-ab5e9ef359c6>\u001b[0m in \u001b[0;36m<module>\u001b[0;34m\u001b[0m\n\u001b[0;32m----> 1\u001b[0;31m \u001b[0mC\u001b[0m \u001b[0;34m=\u001b[0m \u001b[0mMyMatrix\u001b[0m\u001b[0;34m(\u001b[0m\u001b[0;34m[\u001b[0m\u001b[0;34m[\u001b[0m\u001b[0;36m1\u001b[0m\u001b[0;34m,\u001b[0m\u001b[0;36m2\u001b[0m\u001b[0;34m]\u001b[0m\u001b[0;34m,\u001b[0m \u001b[0;34m[\u001b[0m\u001b[0;36m2\u001b[0m\u001b[0;34m,\u001b[0m\u001b[0;36m2\u001b[0m\u001b[0;34m,\u001b[0m\u001b[0;36m3\u001b[0m\u001b[0;34m]\u001b[0m\u001b[0;34m]\u001b[0m\u001b[0;34m)\u001b[0m \u001b[0;31m# intento con dimensiones incorrectas\u001b[0m\u001b[0;34m\u001b[0m\u001b[0;34m\u001b[0m\u001b[0m\n\u001b[0m",
      "\u001b[0;32m<ipython-input-1-e9afb6569f5f>\u001b[0m in \u001b[0;36m__init__\u001b[0;34m(self, matrix)\u001b[0m\n\u001b[1;32m      8\u001b[0m         \u001b[0;32mfor\u001b[0m \u001b[0mi\u001b[0m \u001b[0;32min\u001b[0m \u001b[0mrange\u001b[0m\u001b[0;34m(\u001b[0m\u001b[0;36m1\u001b[0m\u001b[0;34m,\u001b[0m\u001b[0mM\u001b[0m\u001b[0;34m)\u001b[0m\u001b[0;34m:\u001b[0m\u001b[0;34m\u001b[0m\u001b[0;34m\u001b[0m\u001b[0m\n\u001b[1;32m      9\u001b[0m             \u001b[0;32mif\u001b[0m \u001b[0mN\u001b[0m\u001b[0;34m!=\u001b[0m\u001b[0mlen\u001b[0m\u001b[0;34m(\u001b[0m\u001b[0mmatrix\u001b[0m\u001b[0;34m[\u001b[0m\u001b[0;36m1\u001b[0m\u001b[0;34m]\u001b[0m\u001b[0;34m)\u001b[0m\u001b[0;34m:\u001b[0m\u001b[0;34m\u001b[0m\u001b[0;34m\u001b[0m\u001b[0m\n\u001b[0;32m---> 10\u001b[0;31m                 \u001b[0;32mraise\u001b[0m \u001b[0mTypeError\u001b[0m\u001b[0;34m(\u001b[0m\u001b[0;34m\"Cada fila debe tener el mismo número de columnas\"\u001b[0m\u001b[0;34m)\u001b[0m\u001b[0;34m\u001b[0m\u001b[0;34m\u001b[0m\u001b[0m\n\u001b[0m\u001b[1;32m     11\u001b[0m \u001b[0;34m\u001b[0m\u001b[0m\n\u001b[1;32m     12\u001b[0m         \u001b[0mself\u001b[0m\u001b[0;34m.\u001b[0m\u001b[0mmatrix\u001b[0m \u001b[0;34m=\u001b[0m \u001b[0mmatrix\u001b[0m\u001b[0;34m\u001b[0m\u001b[0;34m\u001b[0m\u001b[0m\n",
      "\u001b[0;31mTypeError\u001b[0m: Cada fila debe tener el mismo número de columnas"
     ]
    }
   ],
   "source": [
    "C = MyMatrix([[1,2], [2,2,3]]) # intento con dimensiones incorrectas"
   ]
  },
  {
   "cell_type": "code",
   "execution_count": 4,
   "metadata": {},
   "outputs": [
    {
     "ename": "ValueError",
     "evalue": "Ambas matrices deben tener igual dimensión",
     "output_type": "error",
     "traceback": [
      "\u001b[0;31m---------------------------------------------------------------------------\u001b[0m",
      "\u001b[0;31mValueError\u001b[0m                                Traceback (most recent call last)",
      "\u001b[0;32m<ipython-input-4-17a53b3d2418>\u001b[0m in \u001b[0;36m<module>\u001b[0;34m\u001b[0m\n\u001b[0;32m----> 1\u001b[0;31m \u001b[0mA\u001b[0m\u001b[0;34m+\u001b[0m\u001b[0mB\u001b[0m\u001b[0;34m\u001b[0m\u001b[0;34m\u001b[0m\u001b[0m\n\u001b[0m",
      "\u001b[0;32m<ipython-input-1-e9afb6569f5f>\u001b[0m in \u001b[0;36m__add__\u001b[0;34m(self, other)\u001b[0m\n\u001b[1;32m     33\u001b[0m         \u001b[0mM2\u001b[0m\u001b[0;34m,\u001b[0m \u001b[0mN2\u001b[0m \u001b[0;34m=\u001b[0m \u001b[0mother\u001b[0m\u001b[0;34m.\u001b[0m\u001b[0mshape\u001b[0m\u001b[0;34m(\u001b[0m\u001b[0;34m)\u001b[0m\u001b[0;34m\u001b[0m\u001b[0;34m\u001b[0m\u001b[0m\n\u001b[1;32m     34\u001b[0m         \u001b[0;32mif\u001b[0m \u001b[0;34m(\u001b[0m\u001b[0mM1\u001b[0m\u001b[0;34m,\u001b[0m \u001b[0mN1\u001b[0m\u001b[0;34m)\u001b[0m\u001b[0;34m!=\u001b[0m\u001b[0;34m(\u001b[0m\u001b[0mM2\u001b[0m\u001b[0;34m,\u001b[0m \u001b[0mN2\u001b[0m\u001b[0;34m)\u001b[0m\u001b[0;34m:\u001b[0m\u001b[0;34m\u001b[0m\u001b[0;34m\u001b[0m\u001b[0m\n\u001b[0;32m---> 35\u001b[0;31m             \u001b[0;32mraise\u001b[0m \u001b[0mValueError\u001b[0m\u001b[0;34m(\u001b[0m\u001b[0;34m\"Ambas matrices deben tener igual dimensión\"\u001b[0m\u001b[0;34m)\u001b[0m\u001b[0;34m\u001b[0m\u001b[0;34m\u001b[0m\u001b[0m\n\u001b[0m\u001b[1;32m     36\u001b[0m         \u001b[0;32mreturn\u001b[0m \u001b[0mMyMatrix\u001b[0m\u001b[0;34m(\u001b[0m\u001b[0;34m[\u001b[0m\u001b[0;34m[\u001b[0m\u001b[0mself\u001b[0m\u001b[0;34m.\u001b[0m\u001b[0mgetitem\u001b[0m\u001b[0;34m(\u001b[0m\u001b[0mi\u001b[0m\u001b[0;34m,\u001b[0m\u001b[0mj\u001b[0m\u001b[0;34m)\u001b[0m\u001b[0;34m+\u001b[0m\u001b[0mother\u001b[0m\u001b[0;34m.\u001b[0m\u001b[0mgetitem\u001b[0m\u001b[0;34m(\u001b[0m\u001b[0mi\u001b[0m\u001b[0;34m,\u001b[0m\u001b[0mj\u001b[0m\u001b[0;34m)\u001b[0m \u001b[0;32mfor\u001b[0m \u001b[0mj\u001b[0m \u001b[0;32min\u001b[0m \u001b[0mrange\u001b[0m\u001b[0;34m(\u001b[0m\u001b[0mN1\u001b[0m\u001b[0;34m)\u001b[0m\u001b[0;34m]\u001b[0m \u001b[0;32mfor\u001b[0m \u001b[0mi\u001b[0m \u001b[0;32min\u001b[0m \u001b[0mrange\u001b[0m\u001b[0;34m(\u001b[0m\u001b[0mM1\u001b[0m\u001b[0;34m)\u001b[0m\u001b[0;34m]\u001b[0m\u001b[0;34m)\u001b[0m\u001b[0;34m\u001b[0m\u001b[0;34m\u001b[0m\u001b[0m\n\u001b[1;32m     37\u001b[0m \u001b[0;34m\u001b[0m\u001b[0m\n",
      "\u001b[0;31mValueError\u001b[0m: Ambas matrices deben tener igual dimensión"
     ]
    }
   ],
   "source": [
    "A+B"
   ]
  },
  {
   "cell_type": "code",
   "execution_count": 5,
   "metadata": {},
   "outputs": [
    {
     "ename": "ValueError",
     "evalue": "Ambas matrices deben tener igual dimensión",
     "output_type": "error",
     "traceback": [
      "\u001b[0;31m---------------------------------------------------------------------------\u001b[0m",
      "\u001b[0;31mValueError\u001b[0m                                Traceback (most recent call last)",
      "\u001b[0;32m<ipython-input-5-ca2486c81344>\u001b[0m in \u001b[0;36m<module>\u001b[0;34m\u001b[0m\n\u001b[0;32m----> 1\u001b[0;31m \u001b[0mA\u001b[0m\u001b[0;34m-\u001b[0m\u001b[0mB\u001b[0m\u001b[0;34m\u001b[0m\u001b[0;34m\u001b[0m\u001b[0m\n\u001b[0m",
      "\u001b[0;32m<ipython-input-1-e9afb6569f5f>\u001b[0m in \u001b[0;36m__sub__\u001b[0;34m(self, other)\u001b[0m\n\u001b[1;32m     41\u001b[0m         \u001b[0mM2\u001b[0m\u001b[0;34m,\u001b[0m \u001b[0mN2\u001b[0m \u001b[0;34m=\u001b[0m \u001b[0mother\u001b[0m\u001b[0;34m.\u001b[0m\u001b[0mshape\u001b[0m\u001b[0;34m(\u001b[0m\u001b[0;34m)\u001b[0m\u001b[0;34m\u001b[0m\u001b[0;34m\u001b[0m\u001b[0m\n\u001b[1;32m     42\u001b[0m         \u001b[0;32mif\u001b[0m \u001b[0;34m(\u001b[0m\u001b[0mM1\u001b[0m\u001b[0;34m,\u001b[0m \u001b[0mN1\u001b[0m\u001b[0;34m)\u001b[0m\u001b[0;34m!=\u001b[0m\u001b[0;34m(\u001b[0m\u001b[0mM2\u001b[0m\u001b[0;34m,\u001b[0m \u001b[0mN2\u001b[0m\u001b[0;34m)\u001b[0m\u001b[0;34m:\u001b[0m\u001b[0;34m\u001b[0m\u001b[0;34m\u001b[0m\u001b[0m\n\u001b[0;32m---> 43\u001b[0;31m             \u001b[0;32mraise\u001b[0m \u001b[0mValueError\u001b[0m\u001b[0;34m(\u001b[0m\u001b[0;34m\"Ambas matrices deben tener igual dimensión\"\u001b[0m\u001b[0;34m)\u001b[0m\u001b[0;34m\u001b[0m\u001b[0;34m\u001b[0m\u001b[0m\n\u001b[0m\u001b[1;32m     44\u001b[0m         \u001b[0;32mreturn\u001b[0m \u001b[0mMyMatrix\u001b[0m\u001b[0;34m(\u001b[0m\u001b[0;34m[\u001b[0m\u001b[0;34m[\u001b[0m\u001b[0mself\u001b[0m\u001b[0;34m.\u001b[0m\u001b[0mgetitem\u001b[0m\u001b[0;34m(\u001b[0m\u001b[0mi\u001b[0m\u001b[0;34m,\u001b[0m\u001b[0mj\u001b[0m\u001b[0;34m)\u001b[0m\u001b[0;34m-\u001b[0m\u001b[0mother\u001b[0m\u001b[0;34m.\u001b[0m\u001b[0mgetitem\u001b[0m\u001b[0;34m(\u001b[0m\u001b[0mi\u001b[0m\u001b[0;34m,\u001b[0m\u001b[0mj\u001b[0m\u001b[0;34m)\u001b[0m \u001b[0;32mfor\u001b[0m \u001b[0mj\u001b[0m \u001b[0;32min\u001b[0m \u001b[0mrange\u001b[0m\u001b[0;34m(\u001b[0m\u001b[0mN1\u001b[0m\u001b[0;34m)\u001b[0m\u001b[0;34m]\u001b[0m \u001b[0;32mfor\u001b[0m \u001b[0mi\u001b[0m \u001b[0;32min\u001b[0m \u001b[0mrange\u001b[0m\u001b[0;34m(\u001b[0m\u001b[0mM1\u001b[0m\u001b[0;34m)\u001b[0m\u001b[0;34m]\u001b[0m\u001b[0;34m)\u001b[0m\u001b[0;34m\u001b[0m\u001b[0;34m\u001b[0m\u001b[0m\n\u001b[1;32m     45\u001b[0m \u001b[0;34m\u001b[0m\u001b[0m\n",
      "\u001b[0;31mValueError\u001b[0m: Ambas matrices deben tener igual dimensión"
     ]
    }
   ],
   "source": [
    "A-B"
   ]
  },
  {
   "cell_type": "code",
   "execution_count": 6,
   "metadata": {},
   "outputs": [
    {
     "ename": "ValueError",
     "evalue": "Dimensiones no adecuadas para multiplicación de matrices",
     "output_type": "error",
     "traceback": [
      "\u001b[0;31m---------------------------------------------------------------------------\u001b[0m",
      "\u001b[0;31mValueError\u001b[0m                                Traceback (most recent call last)",
      "\u001b[0;32m<ipython-input-6-47896efed660>\u001b[0m in \u001b[0;36m<module>\u001b[0;34m\u001b[0m\n\u001b[0;32m----> 1\u001b[0;31m \u001b[0mA\u001b[0m\u001b[0;34m*\u001b[0m\u001b[0mB\u001b[0m\u001b[0;34m\u001b[0m\u001b[0;34m\u001b[0m\u001b[0m\n\u001b[0m",
      "\u001b[0;32m<ipython-input-1-e9afb6569f5f>\u001b[0m in \u001b[0;36m__mul__\u001b[0;34m(self, other)\u001b[0m\n\u001b[1;32m     49\u001b[0m         \u001b[0mM2\u001b[0m\u001b[0;34m,\u001b[0m \u001b[0mN2\u001b[0m \u001b[0;34m=\u001b[0m \u001b[0mother\u001b[0m\u001b[0;34m.\u001b[0m\u001b[0mshape\u001b[0m\u001b[0;34m(\u001b[0m\u001b[0;34m)\u001b[0m\u001b[0;34m\u001b[0m\u001b[0;34m\u001b[0m\u001b[0m\n\u001b[1;32m     50\u001b[0m         \u001b[0;32mif\u001b[0m \u001b[0mN1\u001b[0m\u001b[0;34m!=\u001b[0m\u001b[0mM2\u001b[0m\u001b[0;34m:\u001b[0m\u001b[0;34m\u001b[0m\u001b[0;34m\u001b[0m\u001b[0m\n\u001b[0;32m---> 51\u001b[0;31m             \u001b[0;32mraise\u001b[0m \u001b[0mValueError\u001b[0m\u001b[0;34m(\u001b[0m\u001b[0;34m\"Dimensiones no adecuadas para multiplicación de matrices\"\u001b[0m\u001b[0;34m)\u001b[0m\u001b[0;34m\u001b[0m\u001b[0;34m\u001b[0m\u001b[0m\n\u001b[0m\u001b[1;32m     52\u001b[0m \u001b[0;34m\u001b[0m\u001b[0m\n\u001b[1;32m     53\u001b[0m         return MyMatrix([[sum([self.getitem(i,k)*other.getitem(k,j) for k in range(N1)]) \n",
      "\u001b[0;31mValueError\u001b[0m: Dimensiones no adecuadas para multiplicación de matrices"
     ]
    }
   ],
   "source": [
    "A*B"
   ]
  },
  {
   "cell_type": "markdown",
   "metadata": {},
   "source": [
    "# B. Implemente función de correlación (1 pto)\n",
    "\n",
    "Cree una función para calcular la correlación entre dos vectores almacenados en listas y comparelo con la función `np.corrcoef`. Debe **utilizar sólo la estructura de datos de Python por defecto**. Se **descontara** 0.5 ptos si no testea su función.\n",
    "\n",
    "\n",
    "La correlación muestral viene dada por la siguiente formula:\n",
    "\n",
    "$$ corr(X, Y) = \\frac{\\sum_{i=1}^{N} (X_{i}-\\bar{X})(Y_{i}-\\bar{Y})}{\\sqrt{\\sum_{i=1}^{N}(X_{i}-\\bar{X})^{2}}\\sqrt{\\sum_{i=1}^{N}(Y_{i}-\\bar{Y})^{2}}}$$\n",
    "\n",
    "\n",
    "```python\n",
    "def corr(x, y):\n",
    "\n",
    "    return ...\n",
    "```"
   ]
  },
  {
   "cell_type": "code",
   "execution_count": 7,
   "metadata": {},
   "outputs": [],
   "source": [
    "import numpy as np"
   ]
  },
  {
   "cell_type": "code",
   "execution_count": 8,
   "metadata": {},
   "outputs": [],
   "source": [
    "def corr(x, y):\n",
    "    N = len(x)\n",
    "    mean_x = sum(x)/len(x)\n",
    "    mean_y = sum(y)/len(y)\n",
    "    n = sum([(x[i]-mean_x)*(y[i]-mean_y) for i in range(N)])\n",
    "    d1 = sum([(x[i]-mean_x)**2 for i in range(N)])**0.5\n",
    "    d2 = sum([(y[i]-mean_y)**2 for i in range(N)])**0.5\n",
    "    return n/(d1*d2)"
   ]
  },
  {
   "cell_type": "code",
   "execution_count": 9,
   "metadata": {},
   "outputs": [
    {
     "name": "stdout",
     "output_type": "stream",
     "text": [
      "raw: -0.06610711104791328\n",
      "numpy: -0.06610711104791324\n"
     ]
    }
   ],
   "source": [
    "np.random.seed(0)\n",
    "x = np.random.random(100)\n",
    "y = np.random.random(100)\n",
    "\n",
    "print(\"raw:\", corr(x,y))\n",
    "print(\"numpy:\", np.corrcoef(x,y)[0,1])"
   ]
  },
  {
   "cell_type": "markdown",
   "metadata": {},
   "source": [
    "# C. Implemente función que generé una matriz aleatoria simétrica (1 pto)\n",
    "\n",
    "Implemente una función que generé una matriz aleatoria simétrica. En esta ocasión puede ocupar librerías como numpy, pero no puede utilizar una función que haga lo pedido en un solo paso. Se **descontara** 0.5 ptos si no testea su función.\n",
    "\n",
    "\n",
    "```python\n",
    "def symmetric_matrix(n):\n",
    "    #n = dimensión de la matriz cuadrada\n",
    "    return ...\n",
    "```\n",
    "\n",
    "\n",
    "**Hint**: Para generar números aleatorios le puede ser util usar la librería `random` o el modulo `random` de `numpy`."
   ]
  },
  {
   "cell_type": "code",
   "execution_count": 10,
   "metadata": {},
   "outputs": [],
   "source": [
    "import random"
   ]
  },
  {
   "cell_type": "code",
   "execution_count": 11,
   "metadata": {},
   "outputs": [],
   "source": [
    "def simetric_matrix(n):\n",
    "    random_matrix = np.random.randint(1, 10, (n,n))\n",
    "    #random_matrix = np.array([[random.randint(1, 10) for i in range(n)] for i in range(n)])\n",
    "    return random_matrix.T+random_matrix"
   ]
  },
  {
   "cell_type": "code",
   "execution_count": 13,
   "metadata": {},
   "outputs": [
    {
     "data": {
      "text/plain": [
       "array([[ 6, 10,  8,  7,  9],\n",
       "       [10,  4,  5,  4,  9],\n",
       "       [ 8,  5, 10,  9,  4],\n",
       "       [ 7,  4,  9,  8,  8],\n",
       "       [ 9,  9,  4,  8, 18]])"
      ]
     },
     "execution_count": 13,
     "metadata": {},
     "output_type": "execute_result"
    }
   ],
   "source": [
    "np.random.seed(123)\n",
    "simetric_matrix(5)"
   ]
  },
  {
   "cell_type": "markdown",
   "metadata": {},
   "source": [
    "# D. Matplotlib (1pto) \n",
    "\n",
    "En esta pregunta no hay restricciones de librerías ni funciones, puede utilizar lo que estime conveniente para graficar lo pedido.\n",
    "\n",
    "## D.1 (0.4 ptos) En una misma visualización dibujar (x, f) y (x, g), donde:\n",
    "1. $X$ es un vector de 1000 muestras equiespaciadas en el intervalo [-2, 2]\n",
    "2. $f(x) = \\sqrt{1- (|x|-1)^{2}}, \\forall x \\in X $  \n",
    "3. $g(x) = -3\\sqrt{1- \\sqrt{\\frac{|x|}{2}}}, \\forall x \\in X $  \n",
    "\n",
    "**Hint**: puede ser de utilidad `np.linspace`, `np.arange`.\n",
    "  \n",
    "## D.2 (0.4 ptos) En una misma visualización dibujar (x1, y1) y (x2, y2), donde:\n",
    "1. $X1$ es un vector de 100 muestras equi-espaciadas en el intervalo [0, 5]\n",
    "2. $X2$ es un vector de 100 muestras equi-espaciadas en el intervalo [0, 2] \n",
    "3. $y1 =  cos(2\\pi x1)\\exp(-x1),  \\forall x1 \\in X1$\n",
    "4. $y2 =  cos(2\\pi x2), \\forall x2 \\in X2$\n",
    "   \n",
    "**Hint**: puede ser de utilidad `np.pi`, `np.cos`, `np.exp`.\n",
    "## D.3 (0.2 ptos) Estilo\n",
    "\n",
    "Diseñe un estilo por defecto para los gráficos que al menos cambie colores, tamaño imagen\n",
    "y tamaño de textos. **Hint**: puede ser de utilidad investigar `plt.rcParams`."
   ]
  },
  {
   "cell_type": "code",
   "execution_count": 14,
   "metadata": {},
   "outputs": [],
   "source": [
    "import matplotlib.pyplot as plt"
   ]
  },
  {
   "cell_type": "code",
   "execution_count": 15,
   "metadata": {},
   "outputs": [],
   "source": [
    "#new style\n",
    "plt.rcParams['figure.figsize'] = (5, 5)                     #tamaño de las figuras\n",
    "plt.rcParams['text.color']='k'                              #color del texto(labels y titulo)\n",
    "plt.rcParams['axes.labelsize']=20                           #tamaño de los labels\n",
    "plt.rcParams['axes.titlesize']=25                           #tamaño del titulo\n",
    "plt.rcParams['xtick.labelsize']=15                          #tamaño del xvalue\n",
    "plt.rcParams['ytick.labelsize']=15                          #tamaño del yvalue\n",
    "plt.rcParams['figure.facecolor']='white'                    #color del marco que rodea la figura\n",
    "plt.rcParams['axes.grid']=True                              #grilla\n",
    "plt.rcParams['axes.linewidth']= 2.0                         #ancho del margen de la figura\n",
    "plt.rcParams['axes.xmargin']= 0.05                          #margen eje x\n",
    "plt.rcParams['axes.ymargin']= 0.05                          #margen eje y\n",
    "plt.rcParams['axes.labelcolor']='k'                         #color de los label\n",
    "plt.rcParams['axes.edgecolor']= 'grey'                      #color del margen de la figura\n",
    "plt.rcParams['axes.facecolor']='whitesmoke'                 #color del fondo"
   ]
  },
  {
   "cell_type": "code",
   "execution_count": 16,
   "metadata": {},
   "outputs": [
    {
     "data": {
      "text/plain": [
       "[<matplotlib.lines.Line2D at 0x7ff2e62becd0>]"
      ]
     },
     "execution_count": 16,
     "metadata": {},
     "output_type": "execute_result"
    },
    {
     "data": {
      "image/png": "[encoded data removed]",
      "text/plain": [
       "<Figure size 360x360 with 1 Axes>"
      ]
     },
     "metadata": {},
     "output_type": "display_data"
    }
   ],
   "source": [
    "x = np.linspace(-2, 2, 1000)\n",
    "f = [(1-(np.abs(elem)-1)**2)**(1/2) for elem in x]\n",
    "g = [-3*(1-(np.abs(elem)/2)**(1/2))**(1/2) for elem in x]\n",
    "\n",
    "plt.plot(x, f)\n",
    "plt.plot(x, g)"
   ]
  },
  {
   "cell_type": "code",
   "execution_count": 17,
   "metadata": {},
   "outputs": [
    {
     "data": {
      "text/plain": [
       "Text(0.5, 1.0, 'Serie')"
      ]
     },
     "execution_count": 17,
     "metadata": {},
     "output_type": "execute_result"
    },
    {
     "data": {
      "image/png": "[encoded data removed]",
      "text/plain": [
       "<Figure size 1080x360 with 1 Axes>"
      ]
     },
     "metadata": {},
     "output_type": "display_data"
    }
   ],
   "source": [
    "x1 = np.linspace(0, 5, 100)\n",
    "x2 = np.linspace(0, 2, 100)\n",
    "y1 = [np.cos(2*np.pi*elem)*np.exp(-elem) for elem in x1]\n",
    "y2 = [np.cos(2*np.pi*elem) for elem in x2]\n",
    "\n",
    "plt.figure(1, (15, 5))\n",
    "plt.plot(x1, y1, 'o-', label='y1')\n",
    "plt.plot(x2, y2, '.-', label='y2')\n",
    "plt.legend()\n",
    "plt.ylabel('Y')\n",
    "plt.xlabel('X')\n",
    "plt.title('Serie')"
   ]
  }
 ],
 "metadata": {
  "kernelspec": {
   "display_name": "Python 3",
   "language": "python",
   "name": "python3"
  },
  "language_info": {
   "codemirror_mode": {
    "name": "ipython",
    "version": 3
   },
   "file_extension": ".py",
   "mimetype": "text/x-python",
   "name": "python",
   "nbconvert_exporter": "python",
   "pygments_lexer": "ipython3",
   "version": "3.7.4"
  },
  "latex_envs": {
   "LaTeX_envs_menu_present": true,
   "autoclose": false,
   "autocomplete": true,
   "bibliofile": "biblio.bib",
   "cite_by": "apalike",
   "current_citInitial": 1,
   "eqLabelWithNumbers": true,
   "eqNumInitial": 1,
   "hotkeys": {
    "equation": "Ctrl-E",
    "itemize": "Ctrl-I"
   },
   "labels_anchors": false,
   "latex_user_defs": false,
   "report_style_numbering": false,
   "user_envs_cfg": false
  }
 },
 "nbformat": 4,
 "nbformat_minor": 2
}
